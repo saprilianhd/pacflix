{
  "nbformat": 4,
  "nbformat_minor": 0,
  "metadata": {
    "colab": {
      "provenance": []
    },
    "kernelspec": {
      "name": "python3",
      "display_name": "Python 3"
    },
    "language_info": {
      "name": "python"
    }
  },
  "cells": [
    {
      "cell_type": "markdown",
      "source": [
        "### **PacFlix**\n",
        "Video Streaming App"
      ],
      "metadata": {
        "id": "u4jovbYcjjsh"
      }
    },
    {
      "cell_type": "code",
      "source": [
        "# daftar library\n",
        "from dateutil.relativedelta import relativedelta\n",
        "from dataclasses import dataclass\n",
        "from tabulate import tabulate\n",
        "import datetime as dt\n",
        "from datetime import date\n",
        "import random"
      ],
      "metadata": {
        "id": "XDig3i-Aj_RI"
      },
      "execution_count": 8,
      "outputs": []
    },
    {
      "cell_type": "code",
      "source": [
        "@dataclass\n",
        "class Plan:\n",
        "  name: str\n",
        "  can_download: bool\n",
        "  can_stream: bool\n",
        "  can_SD: bool\n",
        "  can_HD: bool\n",
        "  can_UHD: bool\n",
        "  num_devices: int\n",
        "  content: list\n",
        "  price: int\n",
        "\n",
        "  def check_plan(self):\n",
        "    print(tabulate([\n",
        "        [\"Service\", \"Detail\"],\n",
        "        [\"Plan\", self.name],\n",
        "        [\"Download\", 'v' if self.can_download else '-'],\n",
        "        [\"Stream\", 'v' if self.can_stream else '-'],\n",
        "        [\"SD\", 'v' if self.can_SD else '-'],\n",
        "        [\"HD\", 'v' if self.can_HD else '-'],\n",
        "        [\"UHD\", 'v' if self.can_UHD else '-'],\n",
        "        [\"Number of Device\", self.num_devices],\n",
        "        [\"Content\", self.content],\n",
        "        [\"Price\", f'Rp {self.price}']\n",
        "    ], headers=\"firstrow\"))"
      ],
      "metadata": {
        "id": "hS6sa3TxkJcO"
      },
      "execution_count": 9,
      "outputs": []
    },
    {
      "cell_type": "code",
      "source": [
        "basic_plan = Plan(\n",
        "  name = \"Basic Plan\",\n",
        "  can_download = True,\n",
        "  can_stream = True,\n",
        "  can_SD = True,\n",
        "  can_HD = False,\n",
        "  can_UHD = False,\n",
        "  num_devices = 1,\n",
        "  content = [\"3rd party movies\"],\n",
        "  price = 120_000\n",
        ")\n",
        "\n",
        "standard_plan = Plan(\n",
        "  name = \"Standart Plan\",\n",
        "  can_download = True,\n",
        "  can_stream = True,\n",
        "  can_SD = True,\n",
        "  can_HD = True,\n",
        "  can_UHD = False,\n",
        "  num_devices = 2,\n",
        "  content = [\"3rd party movies\", \"Sports\"],\n",
        "  price = 160_000\n",
        ")\n",
        "\n",
        "premium_plan = Plan(\n",
        "  name = \"Premium Plan\",\n",
        "  can_download = True,\n",
        "  can_stream = True,\n",
        "  can_SD = True,\n",
        "  can_HD = True,\n",
        "  can_UHD = True,\n",
        "  num_devices = 4,\n",
        "  content = [\"3rd party movies\", \"Sports\", \"Netflix Original Series\"],\n",
        "  price = 200_000\n",
        ")"
      ],
      "metadata": {
        "id": "tkaw9pEwkoSq"
      },
      "execution_count": 10,
      "outputs": []
    },
    {
      "cell_type": "code",
      "source": [
        "list_plan = [basic_plan, standard_plan, premium_plan]"
      ],
      "metadata": {
        "id": "kOEogVcQm3L9"
      },
      "execution_count": 11,
      "outputs": []
    },
    {
      "cell_type": "code",
      "source": [
        "class User:\n",
        "\n",
        "    __secret_code = ('2134', 'abcd', '2f9g', '9f92', '6g7h', '7ytr', 'ikt8', '18ds')\n",
        "    __list_refcod_user = {}\n",
        "\n",
        "    def __init__(self, username, choosen_plan, register_date):\n",
        "        self.username = username\n",
        "        self.current_plan = choosen_plan\n",
        "        self.register_date = register_date\n",
        "        self.bill = self.current_plan.price\n",
        "        self.referral_code = self.username + '-' + self.__secret_code[random.randint(0,7)]\n",
        "        self.__list_refcod_user[self.username] = self.referral_code\n",
        "\n",
        "    def upgrade_plan(self, new_plan):\n",
        "        if new_plan.price <= self.current_plan.price:\n",
        "            print(\"Anda tidak bisa melakukan upgrade, pilih plan yang lebih tinggi\")\n",
        "            return\n",
        "        today = date.today()\n",
        "        difference_in_years = relativedelta(today, self.register_date).years\n",
        "       \n",
        "        discount = 1\n",
        "        if difference_in_years >= 1:\n",
        "            discount = 0.95\n",
        "        self.bill = new_plan.price * discount\n",
        "        self.current_plan = new_plan\n",
        "        return self.bill\n",
        "\n",
        "    def redeem(self, code):\n",
        "        if code in self.__list_refcod_user.values():\n",
        "            self.bill = self.current_plan.price * 0.96\n",
        "            return True, self.bill\n",
        "        else:\n",
        "            return False, 'Referral Code Anda Tidak Valid'\n",
        "\n",
        "    def check_all_plan(self):\n",
        "        for plan in list_plan:\n",
        "            plan.check_plan()\n",
        "            print('\\n')\n",
        "        \n",
        "    def __str__(self):\n",
        "        return tabulate([\n",
        "            ['Username', self.username],\n",
        "            ['Plan', self.current_plan.name],\n",
        "            ['Register Date', self.register_date],\n",
        "            ['Last Bill', self.bill],\n",
        "            ['Referral Code', self.referral_code]\n",
        "        ])"
      ],
      "metadata": {
        "id": "Yx63zLRtqZpF"
      },
      "execution_count": 12,
      "outputs": []
    },
    {
      "cell_type": "code",
      "source": [
        "peni = User('peni', basic_plan, dt.datetime(2020, 5, 12))\n",
        "rani = User('rani', premium_plan, date.today())\n",
        "shandy = User('shandy', basic_plan, dt.datetime(2021, 3, 12))\n",
        "cahya = User('cahya', standard_plan, dt.datetime(2022, 1, 20))\n",
        "ana = User('ana', premium_plan, dt.datetime(2022, 11, 23))\n",
        "bagus = User('bagus', basic_plan, dt.datetime(2022, 5, 8))"
      ],
      "metadata": {
        "id": "qxYIryBTsGec"
      },
      "execution_count": 13,
      "outputs": []
    },
    {
      "cell_type": "code",
      "source": [
        "# CASE 1: cahya ingin mengecek semua plan\n",
        "cahya.check_all_plan()"
      ],
      "metadata": {
        "colab": {
          "base_uri": "https://localhost:8080/"
        },
        "id": "7a_4IHjG8Px6",
        "outputId": "eb136d4e-6086-4500-ac08-4fe23ccd2196"
      },
      "execution_count": 14,
      "outputs": [
        {
          "output_type": "stream",
          "name": "stdout",
          "text": [
            "Service           Detail\n",
            "----------------  --------------------\n",
            "Plan              Basic Plan\n",
            "Download          v\n",
            "Stream            v\n",
            "SD                v\n",
            "HD                -\n",
            "UHD               -\n",
            "Number of Device  1\n",
            "Content           ['3rd party movies']\n",
            "Price             Rp 120000\n",
            "\n",
            "\n",
            "Service           Detail\n",
            "----------------  ------------------------------\n",
            "Plan              Standart Plan\n",
            "Download          v\n",
            "Stream            v\n",
            "SD                v\n",
            "HD                v\n",
            "UHD               -\n",
            "Number of Device  2\n",
            "Content           ['3rd party movies', 'Sports']\n",
            "Price             Rp 160000\n",
            "\n",
            "\n",
            "Service           Detail\n",
            "----------------  ---------------------------------------------------------\n",
            "Plan              Premium Plan\n",
            "Download          v\n",
            "Stream            v\n",
            "SD                v\n",
            "HD                v\n",
            "UHD               v\n",
            "Number of Device  4\n",
            "Content           ['3rd party movies', 'Sports', 'Netflix Original Series']\n",
            "Price             Rp 200000\n",
            "\n",
            "\n"
          ]
        }
      ]
    },
    {
      "cell_type": "code",
      "source": [
        "# CASE 2 : Ana ingin melihat detail dari informasi dia berlangganan\n",
        "print(ana)"
      ],
      "metadata": {
        "colab": {
          "base_uri": "https://localhost:8080/"
        },
        "id": "6Mzq7VMv9a5G",
        "outputId": "4877e766-b1b2-4f58-d42b-7c0d6b023c41"
      },
      "execution_count": 15,
      "outputs": [
        {
          "output_type": "stream",
          "name": "stdout",
          "text": [
            "-------------  -------------------\n",
            "Username       ana\n",
            "Plan           Premium Plan\n",
            "Register Date  2022-11-23 00:00:00\n",
            "Last Bill      200000\n",
            "Referral Code  ana-2134\n",
            "-------------  -------------------\n"
          ]
        }
      ]
    },
    {
      "cell_type": "code",
      "source": [
        "# CASE 3 : shandy upgrade\n",
        "shandy.upgrade_plan(basic_plan)"
      ],
      "metadata": {
        "colab": {
          "base_uri": "https://localhost:8080/"
        },
        "id": "AStLkW5S-pg4",
        "outputId": "5026225e-f1fc-4a66-f894-e724d2ed038f"
      },
      "execution_count": 16,
      "outputs": [
        {
          "output_type": "stream",
          "name": "stdout",
          "text": [
            "Anda tidak bisa melakukan upgrade, pilih plan yang lebih tinggi\n"
          ]
        }
      ]
    },
    {
      "cell_type": "code",
      "source": [
        "# CASE 4 : Faisal user baru ingin redeem referal code milik bagus\n",
        "faisal = User('faisal', basic_plan, date.today())\n",
        "faisal.redeem(bagus.referral_code)"
      ],
      "metadata": {
        "colab": {
          "base_uri": "https://localhost:8080/"
        },
        "id": "nDanGGlZ-0Ni",
        "outputId": "ca4c373d-dc0a-44d0-ab3a-26f65438f3b8"
      },
      "execution_count": 17,
      "outputs": [
        {
          "output_type": "execute_result",
          "data": {
            "text/plain": [
              "(True, 115200.0)"
            ]
          },
          "metadata": {},
          "execution_count": 17
        }
      ]
    },
    {
      "cell_type": "code",
      "source": [
        "# Inputan user\n",
        "numb_people = int(input('Masukkan jumlah orang: '))\n",
        "list_user = []\n",
        "\n",
        "for i in range(numb_people):\n",
        "    user_u = input('Masukkan nama username Anda: ')\n",
        "    plan_u = input('Masukkan Plan (Basic/Standard/Premium): ').lower()\n",
        "    ref_u = input('Referral Code (jika ada): ')\n",
        "\n",
        "    temp_plan = None\n",
        "    try:\n",
        "        if plan_u == 'basic':\n",
        "            temp_plan = basic_plan\n",
        "        elif plan_u == 'standard':\n",
        "            temp_plan = standard_plan\n",
        "        elif plan_u == 'premium':\n",
        "            temp_plan = premium_plan\n",
        "        else:\n",
        "          raise Exception('Plan tidak tersedia')\n",
        "    except Exception as e:\n",
        "        print(e)\n",
        "    else:\n",
        "        user = User(user_u, temp_plan, date.today())\n",
        "        list_user.append(user)\n",
        "        if ref_u != '':\n",
        "            valid, message = user.redeem(ref_u)\n",
        "            if valid:\n",
        "                print(f'Anda berhasil melakukan redeem, tagihan Anda sebesar {message}')\n",
        "            else:\n",
        "                print(message)\n",
        "        print(user)"
      ],
      "metadata": {
        "colab": {
          "base_uri": "https://localhost:8080/"
        },
        "id": "Q7pY87knAU_9",
        "outputId": "eaee8279-50b0-4b13-d271-6b4254ebef5d"
      },
      "execution_count": 18,
      "outputs": [
        {
          "output_type": "stream",
          "name": "stdout",
          "text": [
            "Masukkan jumlah orang: 2\n",
            "Masukkan nama username Anda: sapril\n",
            "Masukkan Plan (Basic/Standard/Premium): \n",
            "Referral Code (jika ada): \n",
            "Plan tidak tersedia\n",
            "Masukkan nama username Anda: kenzi\n",
            "Masukkan Plan (Basic/Standard/Premium): basic\n",
            "Referral Code (jika ada): \n",
            "-------------  ----------\n",
            "Username       kenzi\n",
            "Plan           Basic Plan\n",
            "Register Date  2023-04-03\n",
            "Last Bill      120000\n",
            "Referral Code  kenzi-2f9g\n",
            "-------------  ----------\n"
          ]
        }
      ]
    }
  ]
}